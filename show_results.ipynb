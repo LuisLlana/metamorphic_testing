{
 "cells": [
  {
   "cell_type": "code",
   "execution_count": 11,
   "id": "viral-gibraltar",
   "metadata": {},
   "outputs": [],
   "source": [
    "import json\n",
    "import matplotlib.pyplot as plt\n",
    "import numpy as np\n",
    "from scipy import stats\n",
    "N_REP = 100"
   ]
  },
  {
   "cell_type": "code",
   "execution_count": 2,
   "id": "foster-theory",
   "metadata": {},
   "outputs": [],
   "source": [
    "with open('sim_R0.txt') as fin:\n",
    "    line = fin.readline()"
   ]
  },
  {
   "cell_type": "code",
   "execution_count": 27,
   "id": "sweet-community",
   "metadata": {},
   "outputs": [
    {
     "data": {
      "text/plain": [
       "'[\"fake_0\", 1, {\"00001\": 95, \"01101\": 107, \"00111\": 96, \"11011\": 89, \"00110\": 115, \"01100\": 107, \"10001\": 87, \"01010\": 111, \"10011\": 101, \"01111\": 104, \"00000\": 84, \"01011\": 106, \"00010\": 89, \"10101\": 79, \"10000\": 111, \"11100\": 104, \"11110\": 88, \"01110\": 108, \"10100\": 87, \"11101\": 96, \"00101\": 112, \"01001\": 94, \"00100\": 108, \"00011\": 86, \"01000\": 104, \"11111\": 103, \"10110\": 86, \"10010\": 110, \"11010\": 114, \"11001\": 88, \"10111\": 115, \"11000\": 116}]\\n'"
      ]
     },
     "execution_count": 27,
     "metadata": {},
     "output_type": "execute_result"
    }
   ],
   "source": [
    "line"
   ]
  },
  {
   "cell_type": "code",
   "execution_count": 3,
   "id": "original-library",
   "metadata": {},
   "outputs": [
    {
     "data": {
      "text/plain": [
       "['fake_0',\n",
       " 1,\n",
       " {'11011': 104,\n",
       "  '00111': 101,\n",
       "  '11010': 101,\n",
       "  '01000': 117,\n",
       "  '01110': 107,\n",
       "  '10110': 112,\n",
       "  '11111': 110,\n",
       "  '10010': 100,\n",
       "  '00101': 79,\n",
       "  '01001': 97,\n",
       "  '00100': 101,\n",
       "  '00011': 87,\n",
       "  '10011': 106,\n",
       "  '01100': 105,\n",
       "  '10001': 100,\n",
       "  '01010': 96,\n",
       "  '01111': 107,\n",
       "  '00110': 109,\n",
       "  '11000': 104,\n",
       "  '10111': 116,\n",
       "  '00010': 93,\n",
       "  '11100': 95,\n",
       "  '11110': 97,\n",
       "  '10101': 79,\n",
       "  '10000': 100,\n",
       "  '10100': 100,\n",
       "  '11101': 94,\n",
       "  '11001': 89,\n",
       "  '00000': 93,\n",
       "  '01011': 110,\n",
       "  '01101': 99,\n",
       "  '00001': 92}]"
      ]
     },
     "execution_count": 3,
     "metadata": {},
     "output_type": "execute_result"
    }
   ],
   "source": [
    "json.loads(line)"
   ]
  },
  {
   "cell_type": "code",
   "execution_count": 29,
   "id": "closed-staff",
   "metadata": {},
   "outputs": [],
   "source": [
    "def get_values(data, nbits):\n",
    "    values = [0]*2**nbits\n",
    "    for key, v in data.items():\n",
    "        pos = int(key, 2)\n",
    "        values[pos] = v\n",
    "    return values\n",
    "\n",
    "\n",
    "def read_results(filename, nbits):\n",
    "    with open(filename) as fin:\n",
    "        results = {}\n",
    "        for line in fin:\n",
    "            data = json.loads(line)\n",
    "            results[f'{data[0]}_{data[1]}'] = get_values(data[2], nbits)\n",
    "    return results\n",
    "\n",
    "def get_plot(values):\n",
    "    \n",
    "    values = np.array(values)\n",
    "    ys = values/(len(values)*N_REP)\n",
    "    fig, ax = plt.subplots(figsize=(6*(len(values)/32),4))\n",
    "    values = np.array(values)\n",
    "    ys = values/(len(values)*N_REP)\n",
    "    mean = np.mean(ys)\n",
    "    ind = range(len(ys))\n",
    "    ax.bar(ind, ys)\n",
    "    \n",
    "    # ax.text(len(ys) ,mean, mean)\n",
    "    ax.hlines(mean, 0, len(ys), linestyles='dotted', color='red')\n",
    "    ind = list(filter(lambda x: x%2**2==0, ind))\n",
    "    ax.set_xticks(ind)\n",
    "    labels = map(lambda x: f'{x:05b}', ind)\n",
    "    ax.set_xticklabels(labels)\n",
    "    return fig\n",
    "\n",
    "def show_res(values):\n",
    "    v = np.array(values)/(len(values)*100)\n",
    "    mean = np.mean(v)\n",
    "    low = v[v<=mean]\n",
    "    high = v[v>mean]\n",
    "    print(f'#low: {len(low)}')\n",
    "    print(f'#high: {len(high)}')\n",
    "    print(f'mean: {mean}')\n",
    "    print(f'mean low: {np.mean(low)}')\n",
    "    print(f'mean high: {np.mean(high)}')\n",
    "    print(f'max low: {max(low)}')\n",
    "    print(f'min high: {min(high)}')\n",
    "    print(f'min max ratio: {min(high)/max(low)}')\n"
   ]
  },
  {
   "cell_type": "code",
   "execution_count": 21,
   "id": "continental-administration",
   "metadata": {},
   "outputs": [],
   "source": [
    "res0 = read_results('experiments/sim_R0.txt', 5)\n",
    "res_2_1 = res0['mtR0_2_1']\n",
    "res_2_3 = res0['mtR0_2_3']"
   ]
  },
  {
   "cell_type": "code",
   "execution_count": 14,
   "id": "magnetic-powell",
   "metadata": {},
   "outputs": [
    {
     "name": "stderr",
     "output_type": "stream",
     "text": [
      "<ipython-input-14-562aab2cde87>:2: UserWarning: Matplotlib is currently using module://ipykernel.pylab.backend_inline, which is a non-GUI backend, so cannot show the figure.\n",
      "  fig.show()\n"
     ]
    },
    {
     "data": {
      "image/png": "[encoded data removed]",
      "text/plain": [
       "<Figure size 432x288 with 1 Axes>"
      ]
     },
     "metadata": {
      "needs_background": "light"
     },
     "output_type": "display_data"
    }
   ],
   "source": [
    "fig = get_plot(res_2_1)\n",
    "fig.show()"
   ]
  },
  {
   "cell_type": "code",
   "execution_count": 22,
   "id": "reported-brown",
   "metadata": {},
   "outputs": [
    {
     "name": "stderr",
     "output_type": "stream",
     "text": [
      "<ipython-input-22-320486a94e45>:2: UserWarning: Matplotlib is currently using module://ipykernel.pylab.backend_inline, which is a non-GUI backend, so cannot show the figure.\n",
      "  fig.show()\n"
     ]
    },
    {
     "data": {
      "image/png": "[encoded data removed]",
      "text/plain": [
       "<Figure size 432x288 with 1 Axes>"
      ]
     },
     "metadata": {
      "needs_background": "light"
     },
     "output_type": "display_data"
    }
   ],
   "source": [
    "fig = get_plot(res_2_2)\n",
    "fig.show()"
   ]
  },
  {
   "cell_type": "code",
   "execution_count": 16,
   "id": "allied-arrow",
   "metadata": {},
   "outputs": [],
   "source": [
    "\n"
   ]
  },
  {
   "cell_type": "code",
   "execution_count": 17,
   "id": "disabled-animation",
   "metadata": {},
   "outputs": [
    {
     "name": "stdout",
     "output_type": "stream",
     "text": [
      "mean: 0.03125\n",
      "mean low: 0.017645833333333336\n",
      "mean high: 0.2353125\n",
      "max low: 0.0215625\n",
      "min high: 0.2353125\n",
      "min max ratio: 10.913043478260871\n"
     ]
    }
   ],
   "source": [
    "show_res(res_2_1)"
   ]
  },
  {
   "cell_type": "code",
   "execution_count": 23,
   "id": "wireless-windows",
   "metadata": {},
   "outputs": [
    {
     "name": "stdout",
     "output_type": "stream",
     "text": [
      "mean: 0.03125\n",
      "mean low: 0.0013750000000000004\n",
      "mean high: 0.479375\n",
      "max low: 0.003125\n",
      "min high: 0.465625\n",
      "min max ratio: 149.0\n"
     ]
    }
   ],
   "source": [
    "show_res(res_2_3)"
   ]
  },
  {
   "cell_type": "code",
   "execution_count": 20,
   "id": "aquatic-glasgow",
   "metadata": {},
   "outputs": [
    {
     "data": {
      "text/plain": [
       "3.141592653589793"
      ]
     },
     "execution_count": 20,
     "metadata": {},
     "output_type": "execute_result"
    }
   ],
   "source": [
    "np.pi/4*np.sqrt(2**4)"
   ]
  },
  {
   "cell_type": "code",
   "execution_count": 25,
   "id": "exceptional-transition",
   "metadata": {},
   "outputs": [],
   "source": [
    "res1 = read_results('experiments/sim_R1.txt', 6)"
   ]
  },
  {
   "cell_type": "code",
   "execution_count": 27,
   "id": "collected-interstate",
   "metadata": {},
   "outputs": [
    {
     "data": {
      "image/png": "[encoded data removed]",
      "text/plain": [
       "<Figure size 864x288 with 1 Axes>"
      ]
     },
     "metadata": {
      "needs_background": "light"
     },
     "output_type": "display_data"
    }
   ],
   "source": [
    "res1_1 = res1['mtR1_2_1']\n",
    "fig = get_plot(res1_1)"
   ]
  },
  {
   "cell_type": "code",
   "execution_count": 30,
   "id": "ultimate-tyler",
   "metadata": {},
   "outputs": [
    {
     "name": "stdout",
     "output_type": "stream",
     "text": [
      "#low: 36\n",
      "#high: 28\n",
      "mean: 0.015625\n",
      "mean low: 0.008663194444444444\n",
      "mean high: 0.024575892857142862\n",
      "max low: 0.0109375\n",
      "min high: 0.02171875\n",
      "min max ratio: 1.9857142857142858\n"
     ]
    }
   ],
   "source": [
    "show_res(res1_1)"
   ]
  },
  {
   "cell_type": "code",
   "execution_count": 32,
   "id": "dressed-society",
   "metadata": {},
   "outputs": [
    {
     "name": "stderr",
     "output_type": "stream",
     "text": [
      "<ipython-input-32-cbf8fdd4370e>:3: UserWarning: Matplotlib is currently using module://ipykernel.pylab.backend_inline, which is a non-GUI backend, so cannot show the figure.\n",
      "  fig.show()\n"
     ]
    },
    {
     "data": {
      "image/png": "[encoded data removed]",
      "text/plain": [
       "<Figure size 864x288 with 1 Axes>"
      ]
     },
     "metadata": {
      "needs_background": "light"
     },
     "output_type": "display_data"
    }
   ],
   "source": [
    "res1_2 = res1['mtR1_2_2']\n",
    "fig = get_plot(res1_2)\n",
    "fig.show()"
   ]
  },
  {
   "cell_type": "code",
   "execution_count": 34,
   "id": "disciplinary-roommate",
   "metadata": {},
   "outputs": [
    {
     "name": "stdout",
     "output_type": "stream",
     "text": [
      "#low: 52\n",
      "#high: 12\n",
      "mean: 0.015625\n",
      "mean low: 0.0009104567307692307\n",
      "mean high: 0.07938802083333334\n",
      "max low: 0.001875\n",
      "min high: 0.073125\n",
      "min max ratio: 39.0\n"
     ]
    }
   ],
   "source": [
    "show_res(res1_2)"
   ]
  },
  {
   "cell_type": "code",
   "execution_count": 35,
   "id": "peaceful-emphasis",
   "metadata": {},
   "outputs": [
    {
     "data": {
      "text/plain": [
       "0.09104567307692307"
      ]
     },
     "execution_count": 35,
     "metadata": {},
     "output_type": "execute_result"
    }
   ],
   "source": [
    "0.0009104567307692307 * 100"
   ]
  },
  {
   "cell_type": "code",
   "execution_count": 36,
   "id": "arctic-tract",
   "metadata": {},
   "outputs": [
    {
     "data": {
      "text/plain": [
       "1.8137993642342176"
      ]
     },
     "execution_count": 36,
     "metadata": {},
     "output_type": "execute_result"
    }
   ],
   "source": [
    "np.pi/4 * np.sqrt(2**6/12)"
   ]
  },
  {
   "cell_type": "code",
   "execution_count": 10,
   "id": "brilliant-offer",
   "metadata": {},
   "outputs": [],
   "source": [
    "def get_plot(values):\n",
    "    def most_decimal(mean):\n",
    "        res = 1\n",
    "        while mean<1:\n",
    "            res = res/10\n",
    "            mean = mean * 10\n",
    "        return res\n",
    "    \n",
    "    values = np.array(values)\n",
    "    ys = values/(len(values)*100)\n",
    "    fig, ax = plt.subplots(figsize=(6*(len(values)/32),4))\n",
    "    values = np.array(values)\n",
    "    ys = values/(len(values)*100)\n",
    "    mean = np.mean(ys)\n",
    "    ind = range(len(ys))\n",
    "    ax.bar(ind, ys)\n",
    "    \n",
    "    # ax.text(len(ys) ,mean, mean)\n",
    "    ax.hlines(mean, 0, len(ys), linestyles='dotted', color='red')\n",
    "    ind = list(filter(lambda x: x%2**2==0, ind))\n",
    "    ax.set_xticks(ind)\n",
    "    labels = map(lambda x: f'{x:05b}', ind)\n",
    "    ax.set_xticklabels(labels)\n",
    "    return fig\n"
   ]
  },
  {
   "cell_type": "code",
   "execution_count": 11,
   "id": "selected-cliff",
   "metadata": {},
   "outputs": [],
   "source": [
    "size = len(res['mtR1_0_1'])\n",
    "ys = np.array(res['mtR1_0_1'])"
   ]
  },
  {
   "cell_type": "code",
   "execution_count": 12,
   "id": "dedicated-cleaners",
   "metadata": {},
   "outputs": [
    {
     "data": {
      "text/plain": [
       "100.0"
      ]
     },
     "execution_count": 12,
     "metadata": {},
     "output_type": "execute_result"
    }
   ],
   "source": [
    "np.mean(ys)"
   ]
  },
  {
   "cell_type": "code",
   "execution_count": 13,
   "id": "prescribed-criterion",
   "metadata": {},
   "outputs": [
    {
     "name": "stderr",
     "output_type": "stream",
     "text": [
      "<ipython-input-13-09d3e78ef54c>:2: UserWarning: Matplotlib is currently using module://ipykernel.pylab.backend_inline, which is a non-GUI backend, so cannot show the figure.\n",
      "  fig.show()\n"
     ]
    },
    {
     "data": {
      "image/png": "[encoded data removed]",
      "text/plain": [
       "<Figure size 864x288 with 1 Axes>"
      ]
     },
     "metadata": {
      "needs_background": "light"
     },
     "output_type": "display_data"
    }
   ],
   "source": [
    "fig = get_plot(ys)\n",
    "fig.show()"
   ]
  },
  {
   "cell_type": "code",
   "execution_count": 40,
   "id": "verified-timothy",
   "metadata": {},
   "outputs": [
    {
     "name": "stderr",
     "output_type": "stream",
     "text": [
      "<ipython-input-40-0041823ee8f5>:3: UserWarning: Matplotlib is currently using module://ipykernel.pylab.backend_inline, which is a non-GUI backend, so cannot show the figure.\n",
      "  fig.show()\n"
     ]
    },
    {
     "data": {
      "image/png": "[encoded data removed]",
      "text/plain": [
       "<Figure size 864x288 with 1 Axes>"
      ]
     },
     "metadata": {
      "needs_background": "light"
     },
     "output_type": "display_data"
    }
   ],
   "source": [
    "ys2 = stats.binom.rvs(size*100, 1.0/size, size=size)\n",
    "fig = get_plot(ys2)\n",
    "fig.show()"
   ]
  },
  {
   "cell_type": "code",
   "execution_count": 43,
   "id": "complicated-flush",
   "metadata": {},
   "outputs": [
    {
     "data": {
      "text/plain": [
       "KstestResult(statistic=0.1360421023995818, pvalue=0.1705123135879162)"
      ]
     },
     "execution_count": 43,
     "metadata": {},
     "output_type": "execute_result"
    }
   ],
   "source": [
    "stats.kstest(ys2, 'binom', args=(size*100, 1.0/size), alternative='two-sided')"
   ]
  },
  {
   "cell_type": "code",
   "execution_count": 42,
   "id": "unnecessary-military",
   "metadata": {},
   "outputs": [
    {
     "data": {
      "text/plain": [
       "KstestResult(statistic=0.09621073074229977, pvalue=0.5612896990245108)"
      ]
     },
     "execution_count": 42,
     "metadata": {},
     "output_type": "execute_result"
    }
   ],
   "source": [
    "stats.kstest(ys, 'binom', args=(size*100, 1.0/size), alternative='two-sided')"
   ]
  },
  {
   "cell_type": "code",
   "execution_count": 94,
   "id": "individual-overview",
   "metadata": {},
   "outputs": [
    {
     "data": {
      "text/plain": [
       "KstestResult(statistic=0.11284188195563782, pvalue=0.7683680956191852)"
      ]
     },
     "execution_count": 94,
     "metadata": {},
     "output_type": "execute_result"
    }
   ],
   "source": [
    "stats.kstest(res['mtR0_0_1'], 'binom', args=(size*100, 1/size), alternative='two-sided')"
   ]
  },
  {
   "cell_type": "code",
   "execution_count": 5,
   "id": "second-outreach",
   "metadata": {},
   "outputs": [
    {
     "ename": "TypeError",
     "evalue": "set_ticks() got an unexpected keyword argument 'labels'",
     "output_type": "error",
     "traceback": [
      "\u001b[0;31m---------------------------------------------------------------------------\u001b[0m",
      "\u001b[0;31mTypeError\u001b[0m                                 Traceback (most recent call last)",
      "\u001b[0;32m<ipython-input-5-09af047c5766>\u001b[0m in \u001b[0;36m<module>\u001b[0;34m\u001b[0m\n\u001b[1;32m     17\u001b[0m \u001b[0max\u001b[0m\u001b[0;34m.\u001b[0m\u001b[0mset_ylabel\u001b[0m\u001b[0;34m(\u001b[0m\u001b[0;34m'Scores'\u001b[0m\u001b[0;34m)\u001b[0m\u001b[0;34m\u001b[0m\u001b[0;34m\u001b[0m\u001b[0m\n\u001b[1;32m     18\u001b[0m \u001b[0max\u001b[0m\u001b[0;34m.\u001b[0m\u001b[0mset_title\u001b[0m\u001b[0;34m(\u001b[0m\u001b[0;34m'Scores by group and gender'\u001b[0m\u001b[0;34m)\u001b[0m\u001b[0;34m\u001b[0m\u001b[0;34m\u001b[0m\u001b[0m\n\u001b[0;32m---> 19\u001b[0;31m \u001b[0max\u001b[0m\u001b[0;34m.\u001b[0m\u001b[0mset_xticks\u001b[0m\u001b[0;34m(\u001b[0m\u001b[0mind\u001b[0m\u001b[0;34m,\u001b[0m \u001b[0mlabels\u001b[0m\u001b[0;34m=\u001b[0m\u001b[0;34m[\u001b[0m\u001b[0;34m'G1'\u001b[0m\u001b[0;34m,\u001b[0m \u001b[0;34m'G2'\u001b[0m\u001b[0;34m,\u001b[0m \u001b[0;34m'G3'\u001b[0m\u001b[0;34m,\u001b[0m \u001b[0;34m'G4'\u001b[0m\u001b[0;34m,\u001b[0m \u001b[0;34m'G5'\u001b[0m\u001b[0;34m]\u001b[0m\u001b[0;34m)\u001b[0m\u001b[0;34m\u001b[0m\u001b[0;34m\u001b[0m\u001b[0m\n\u001b[0m\u001b[1;32m     20\u001b[0m \u001b[0max\u001b[0m\u001b[0;34m.\u001b[0m\u001b[0mlegend\u001b[0m\u001b[0;34m(\u001b[0m\u001b[0;34m)\u001b[0m\u001b[0;34m\u001b[0m\u001b[0;34m\u001b[0m\u001b[0m\n\u001b[1;32m     21\u001b[0m \u001b[0;34m\u001b[0m\u001b[0m\n",
      "\u001b[0;32m~/.local/lib/python3.8/site-packages/matplotlib/axes/_base.py\u001b[0m in \u001b[0;36mwrapper\u001b[0;34m(self, *args, **kwargs)\u001b[0m\n\u001b[1;32m     71\u001b[0m \u001b[0;34m\u001b[0m\u001b[0m\n\u001b[1;32m     72\u001b[0m         \u001b[0;32mdef\u001b[0m \u001b[0mwrapper\u001b[0m\u001b[0;34m(\u001b[0m\u001b[0mself\u001b[0m\u001b[0;34m,\u001b[0m \u001b[0;34m*\u001b[0m\u001b[0margs\u001b[0m\u001b[0;34m,\u001b[0m \u001b[0;34m**\u001b[0m\u001b[0mkwargs\u001b[0m\u001b[0;34m)\u001b[0m\u001b[0;34m:\u001b[0m\u001b[0;34m\u001b[0m\u001b[0;34m\u001b[0m\u001b[0m\n\u001b[0;32m---> 73\u001b[0;31m             \u001b[0;32mreturn\u001b[0m \u001b[0mget_method\u001b[0m\u001b[0;34m(\u001b[0m\u001b[0mself\u001b[0m\u001b[0;34m)\u001b[0m\u001b[0;34m(\u001b[0m\u001b[0;34m*\u001b[0m\u001b[0margs\u001b[0m\u001b[0;34m,\u001b[0m \u001b[0;34m**\u001b[0m\u001b[0mkwargs\u001b[0m\u001b[0;34m)\u001b[0m\u001b[0;34m\u001b[0m\u001b[0;34m\u001b[0m\u001b[0m\n\u001b[0m\u001b[1;32m     74\u001b[0m \u001b[0;34m\u001b[0m\u001b[0m\n\u001b[1;32m     75\u001b[0m         \u001b[0mwrapper\u001b[0m\u001b[0;34m.\u001b[0m\u001b[0m__module__\u001b[0m \u001b[0;34m=\u001b[0m \u001b[0mowner\u001b[0m\u001b[0;34m.\u001b[0m\u001b[0m__module__\u001b[0m\u001b[0;34m\u001b[0m\u001b[0;34m\u001b[0m\u001b[0m\n",
      "\u001b[0;31mTypeError\u001b[0m: set_ticks() got an unexpected keyword argument 'labels'"
     ]
    },
    {
     "data": {
      "image/png": "[encoded data removed]",
      "text/plain": [
       "<Figure size 432x288 with 1 Axes>"
      ]
     },
     "metadata": {
      "needs_background": "light"
     },
     "output_type": "display_data"
    }
   ],
   "source": [
    "N = 5\n",
    "menMeans = (20, 35, 30, 35, -27)\n",
    "womenMeans = (25, 32, 34, 20, -25)\n",
    "menStd = (2, 3, 4, 1, 2)\n",
    "womenStd = (3, 5, 2, 3, 3)\n",
    "ind = np.arange(N)    # the x locations for the groups\n",
    "width = 0.35       # the width of the bars: can also be len(x) sequence\n",
    "\n",
    "\n",
    "fig, ax = plt.subplots()\n",
    "\n",
    "p1 = ax.bar(ind, menMeans, width, yerr=menStd, label='Men')\n",
    "p2 = ax.bar(ind, womenMeans, width,\n",
    "            bottom=menMeans, yerr=womenStd, label='Women')\n",
    "\n",
    "ax.axhline(0, color='grey', linewidth=0.8)\n",
    "ax.set_ylabel('Scores')\n",
    "ax.set_title('Scores by group and gender')\n",
    "ax.set_xticks(ind, labels=['G1', 'G2', 'G3', 'G4', 'G5'])\n",
    "ax.legend()\n",
    "\n",
    "# Label with label_type 'center' instead of the default 'edge'\n",
    "ax.bar_label(p1, label_type='center')\n",
    "ax.bar_label(p2, label_type='center')\n",
    "ax.bar_label(p2)\n",
    "\n",
    "plt.show()\n"
   ]
  }
 ],
 "metadata": {
  "kernelspec": {
   "display_name": "Python 3",
   "language": "python",
   "name": "python3"
  },
  "language_info": {
   "codemirror_mode": {
    "name": "ipython",
    "version": 3
   },
   "file_extension": ".py",
   "mimetype": "text/x-python",
   "name": "python",
   "nbconvert_exporter": "python",
   "pygments_lexer": "ipython3",
   "version": "3.8.10"
  }
 },
 "nbformat": 4,
 "nbformat_minor": 5
}
